{
 "cells": [
  {
   "cell_type": "markdown",
   "metadata": {},
   "source": [
    "# Dataset Exploration and preprocessing\n"
   ]
  },
  {
   "cell_type": "markdown",
   "metadata": {},
   "source": [
    "Directory structure: have a `datasets` directory in the same direction as this file. The `datasets` directory should have the downloaded dataset files from semeval 2020 task 11."
   ]
  },
  {
   "cell_type": "markdown",
   "metadata": {},
   "source": [
    "## Load Dataset"
   ]
  },
  {
   "cell_type": "code",
   "execution_count": 1,
   "metadata": {},
   "outputs": [],
   "source": [
    "import datasets\n",
    "import seaborn as sns\n",
    "\n",
    "ds = datasets.load_dataset(\"sem_eval_2020_task_11\", data_dir=\"./datasets\")"
   ]
  },
  {
   "cell_type": "code",
   "execution_count": 2,
   "metadata": {},
   "outputs": [
    {
     "data": {
      "text/plain": [
       "DatasetDict({\n",
       "    train: Dataset({\n",
       "        features: ['article_id', 'text', 'span_identification', 'technique_classification'],\n",
       "        num_rows: 371\n",
       "    })\n",
       "    test: Dataset({\n",
       "        features: ['article_id', 'text', 'span_identification', 'technique_classification'],\n",
       "        num_rows: 90\n",
       "    })\n",
       "    validation: Dataset({\n",
       "        features: ['article_id', 'text', 'span_identification', 'technique_classification'],\n",
       "        num_rows: 75\n",
       "    })\n",
       "})"
      ]
     },
     "execution_count": 2,
     "metadata": {},
     "output_type": "execute_result"
    }
   ],
   "source": [
    "ds"
   ]
  },
  {
   "cell_type": "code",
   "execution_count": 3,
   "metadata": {},
   "outputs": [
    {
     "data": {
      "text/plain": [
       "{'article_id': 'article111111111',\n",
       " 'text': 'Next plague outbreak in Madagascar could be \\'stronger\\': WHO\\n\\nGeneva - The World Health Organisation chief on Wednesday said a deadly plague epidemic appeared to have been brought under control in Madagascar, but warned the next outbreak would likely be stronger.\\n\\n\"The next transmission could be more pronounced or stronger,\" WHO Director-General Tedros Adhanom Ghebreyesus told reporters in Geneva, insisting that \"the issue is serious.\"\\n\\nAn outbreak of both bubonic plague, which is spread by infected rats via flea bites, and pneumonic plague, spread person to person, has killed more than 200 people in the Indian Ocean island nation since August.\\n\\nMadagascar has suffered bubonic plague outbreaks almost every year since 1980, often caused by rats fleeing forest fires.\\n\\nThe disease tends to make a comeback each hot rainy season, from September to April.\\nOn average, between 300 and 600 infections are recorded every year among a population approaching 25 million people, according to a UN estimate.\\n\\nBut Tedros voiced alarm that \"plague in Madagascar behaved in a very, very different way this year.\"\\n\\nCases sprang up far earlier than usual and, instead of being confined to the countryside, the disease infiltrated towns.\\nThe authorities recorded more than 2 000 cases, and Tedros said Wednesday the death toll stood at 207.\\n\\nHe also pointed to the presence of the pneumonic version, which spreads more easily and is more virulent, in the latest outbreak.\\n\\nHe praised the rapid response from WHO and Madagascar authorities that helped bring the outbreak under control, but warned that the danger was not over.\\n\\nThe larger-than-usual outbreak had helped spread the bacteria that causes the plague more widely.\\n\\nThis along with poor sanitation and vector control on Madagascar meant that \"when (the plague) comes again it starts from more stock, and the magnitude in the next transmission could be higher than the one that we saw,\" Tedros said.\\n\\n\"That means that Madagascar could be affected more, and not only that, it could even spill over into neighbouring countries and beyond,\" he warned.\\n\\nComplicating vector control is the fact that the fleas that carry the Yersinia pestis bacteria that causes the plague have proven to be widely resistant to chemicals and insecticides.\\n\\n\"That\\'s a dangerous combination,\" Tedros said.\\n',\n",
       " 'span_identification': {'start_char_offset': [265,\n",
       "   1795,\n",
       "   149,\n",
       "   1069,\n",
       "   1334,\n",
       "   1577,\n",
       "   2023],\n",
       "  'end_char_offset': [323, 1935, 157, 1091, 1462, 1616, 2086]},\n",
       " 'technique_classification': {'start_char_offset': [265,\n",
       "   1795,\n",
       "   149,\n",
       "   1069,\n",
       "   1334,\n",
       "   1577,\n",
       "   1856,\n",
       "   2023],\n",
       "  'end_char_offset': [323, 1935, 157, 1091, 1462, 1616, 1910, 2086],\n",
       "  'technique': [0, 0, 5, 10, 1, 1, 1, 1]}}"
      ]
     },
     "execution_count": 3,
     "metadata": {},
     "output_type": "execute_result"
    }
   ],
   "source": [
    "ds[\"train\"][0]"
   ]
  },
  {
   "cell_type": "markdown",
   "metadata": {},
   "source": [
    "## Annotated HTML View\n"
   ]
  },
  {
   "cell_type": "code",
   "execution_count": 4,
   "metadata": {},
   "outputs": [
    {
     "data": {
      "text/html": [
       "<p>U.S. judge frees Indonesian immigrant held by Trump order\\n\\nA U.S. judge on Wednesday ordered the release of an illegal immigrant who is among 47 Indonesians in New Hampshire challenging the Trump administration’s order to deport them.\\n\\nSPONSORED\\n\\nRombot, part of a wave of Indonesian Christians who fled their country following deadly riots in 1998, learned of the policy change when he appeared for an Aug. 1 check-in with ICE and was arrested.\\n\\n“He walks out of the courthouse right now,” Chief U.S. District Judge Patti Saris said after concluding that Rombot’s detention violated his rights.\\n\\nHe walked out of the U.S. District Court in Boston in his blue jail scrubs, without a chance to change into street clothes.\\nRombot’s lawyers said he was arrested despite a 2015 letter from ICE saying he would have a chance to prepare for an “orderly” departure.\\n\\nThe judge cited that letter during Wednesday’s hearing in holding that Rombot’s detention despite ICE’s previous guidance violated his due process rights under the U.S. Constitution.\\n\\n“This is what intent was, that he would be given the opportunity to leave under his own steam and not under shackles,” she said.\\n\\nOutside the courtroom, Rombot said: “I just want to say thank you to my attorney, my pastor and all of my friends.”\\n\\nThe U.S. Attorney’s office is considering an appeal, a spokeswoman said.\\n\\nICE officials said the arrangement had always been a temporary one and that the agency always had discretion to deport the people covered by the arrangement.\\n\\nThe Indonesians are part of an ethnic community of about 2,000 people clustered around the city of Dover in New Hampshire’s seacoast region.\\n\\nMembers of the group and advocates say <span style='background-color: red'>they fear they could face discrimination or violence if forced to return to the world’s largest Muslim-majority country.</span>\\n\\nTheir cause has drawn the support of Republican Governor Chris Sununu and New Hampshire’s all-Democratic congressional delegation, including U.S.\\nSenator Jeanne Shaheen.\\n\\nSaris previously ordered a stay to the deportations.\\nShe is currently weighing whether she can order a longer delay to give the affected people time to renew their efforts to gain legal status.\\n</p>"
      ],
      "text/plain": [
       "<IPython.core.display.HTML object>"
      ]
     },
     "execution_count": 4,
     "metadata": {},
     "output_type": "execute_result"
    }
   ],
   "source": [
    "from IPython.display import HTML\n",
    "\n",
    "\n",
    "def html_view(sample_num: int) -> HTML:\n",
    "    item = ds[\"train\"][sample_num]\n",
    "    text = item[\"text\"]\n",
    "    span_identification = item[\"span_identification\"]\n",
    "    ret = \"<p>\"\n",
    "    for i in range(len(text)):\n",
    "        if i in span_identification[\"start_char_offset\"]:\n",
    "            ret += \"<span style='background-color: red'>\"\n",
    "        if text[i] == '\\n':\n",
    "            ret += \"\\\\n\"\n",
    "        else:\n",
    "            ret += text[i]\n",
    "        if i in span_identification[\"end_char_offset\"]:\n",
    "            ret += \"</span>\"\n",
    "    ret += \"</p>\"\n",
    "    return HTML(ret)\n",
    "\n",
    "\n",
    "html_view(3)"
   ]
  },
  {
   "cell_type": "markdown",
   "metadata": {},
   "source": [
    "## Labels (probably not needed)"
   ]
  },
  {
   "cell_type": "code",
   "execution_count": 5,
   "metadata": {},
   "outputs": [
    {
     "name": "stdout",
     "output_type": "stream",
     "text": [
      "{0, 1, 2, 3, 4, 5, 6, 7, 8, 9, 10, 11, 12, 13}\n"
     ]
    },
    {
     "data": {
      "text/plain": [
       "<Axes: >"
      ]
     },
     "execution_count": 5,
     "metadata": {},
     "output_type": "execute_result"
    },
    {
     "data": {
      "image/png": "[encoded data removed]",
      "text/plain": [
       "<Figure size 640x480 with 1 Axes>"
      ]
     },
     "metadata": {},
     "output_type": "display_data"
    }
   ],
   "source": [
    "unique_labels = set()\n",
    "for item in ds['train']:\n",
    "    unique_labels.update(item['technique_classification']['technique'])\n",
    "print(unique_labels)\n",
    "\n",
    "label_counts = {num:0 for num in unique_labels}\n",
    "for item in ds['train']:\n",
    "    for technique in item['technique_classification']['technique']:\n",
    "        label_counts[technique] += 1\n",
    "sns.barplot(label_counts)\n"
   ]
  },
  {
   "cell_type": "markdown",
   "metadata": {},
   "source": [
    "## Span Lengths"
   ]
  },
  {
   "cell_type": "code",
   "execution_count": 6,
   "metadata": {},
   "outputs": [
    {
     "data": {
      "text/plain": [
       "<Axes: ylabel='Count'>"
      ]
     },
     "execution_count": 6,
     "metadata": {},
     "output_type": "execute_result"
    },
    {
     "data": {
      "image/png": "[encoded data removed]",
      "text/plain": [
       "<Figure size 640x480 with 1 Axes>"
      ]
     },
     "metadata": {},
     "output_type": "display_data"
    }
   ],
   "source": [
    "lengths = []\n",
    "for item in ds['train']:\n",
    "    lengths.extend(list(map(lambda start, end: end-start, item['span_identification']['start_char_offset'], item['span_identification']['end_char_offset'])))\n",
    "sns.histplot(lengths)"
   ]
  },
  {
   "cell_type": "markdown",
   "metadata": {},
   "source": [
    "## Split by sentences"
   ]
  },
  {
   "cell_type": "code",
   "execution_count": 7,
   "metadata": {},
   "outputs": [
    {
     "name": "stderr",
     "output_type": "stream",
     "text": [
      "[nltk_data] Downloading package punkt to /home/eliot/nltk_data...\n",
      "[nltk_data]   Package punkt is already up-to-date!\n"
     ]
    },
    {
     "data": {
      "text/plain": [
       "True"
      ]
     },
     "execution_count": 7,
     "metadata": {},
     "output_type": "execute_result"
    }
   ],
   "source": [
    "import nltk\n",
    "from nltk import sent_tokenize\n",
    "nltk.download(\"punkt\")  # punctuation tokenizer\n"
   ]
  },
  {
   "cell_type": "code",
   "execution_count": 8,
   "metadata": {},
   "outputs": [
    {
     "data": {
      "text/plain": [
       "14292"
      ]
     },
     "execution_count": 8,
     "metadata": {},
     "output_type": "execute_result"
    }
   ],
   "source": [
    "sentences = []\n",
    "for idx, instance in enumerate(ds['train']):\n",
    "    text = instance['text']\n",
    "    sentences.extend([(item, idx) for item in sent_tokenize(text)])\n",
    "len(sentences)"
   ]
  },
  {
   "cell_type": "code",
   "execution_count": 9,
   "metadata": {},
   "outputs": [],
   "source": [
    "newline_sentences = []\n",
    "for sentence in sentences:\n",
    "    if \"\\n\" in sentence[0]:\n",
    "        newline_sentences.append(sentence)\n"
   ]
  },
  {
   "cell_type": "code",
   "execution_count": 10,
   "metadata": {},
   "outputs": [
    {
     "data": {
      "text/plain": [
       "('SPONSORED\\n\\nRombot, part of a wave of Indonesian Christians who fled their country following deadly riots in 1998, learned of the policy change when he appeared for an Aug. 1 check-in with ICE and was arrested.',\n",
       " 3)"
      ]
     },
     "execution_count": 10,
     "metadata": {},
     "output_type": "execute_result"
    }
   ],
   "source": [
    "newline_sentences[6]"
   ]
  },
  {
   "cell_type": "code",
   "execution_count": 11,
   "metadata": {},
   "outputs": [
    {
     "data": {
      "text/plain": [
       "0.1294430450601735"
      ]
     },
     "execution_count": 11,
     "metadata": {},
     "output_type": "execute_result"
    }
   ],
   "source": [
    "# about 12 percent of out dataset has newlines in them, which is not what we want. \n",
    "# since those 12 percent are likely to be 2+ sentences.\n",
    "len(newline_sentences)/len(sentences)  "
   ]
  },
  {
   "cell_type": "markdown",
   "metadata": {},
   "source": [
    "## Properly split into sentences with labels"
   ]
  },
  {
   "cell_type": "code",
   "execution_count": 21,
   "metadata": {},
   "outputs": [],
   "source": [
    "items = []\n",
    "for entry in ds['train']:\n",
    "    text:str = entry['text']\n",
    "    spans = list(zip(entry['span_identification']['start_char_offset'], entry['span_identification']['end_char_offset']))\n",
    "    newline_split = text.split(\"\\n\")\n",
    "    \n",
    "    for line in newline_split:\n",
    "        # figure out where the line is\n",
    "        tokenized_line = sent_tokenize(line)\n",
    "        for tokenized_sentence in tokenized_line:\n",
    "            assert type(tokenized_sentence) == str\n",
    "            index = text.index(tokenized_sentence)\n",
    "            \n",
    "            is_classified = False\n",
    "            for i in range(len(tokenized_sentence)):\n",
    "                for span in spans:\n",
    "                    if span[0] <= index+i <= span[1]:\n",
    "                        # mark it as true\n",
    "                        is_classified = True\n",
    "                        break\n",
    "            \n",
    "            items.append((tokenized_sentence, is_classified))\n",
    "                "
   ]
  },
  {
   "cell_type": "code",
   "execution_count": 23,
   "metadata": {},
   "outputs": [
    {
     "data": {
      "text/plain": [
       "('Cases sprang up far earlier than usual and, instead of being confined to the countryside, the disease infiltrated towns.',\n",
       " False)"
      ]
     },
     "execution_count": 23,
     "metadata": {},
     "output_type": "execute_result"
    }
   ],
   "source": [
    "items[8]"
   ]
  },
  {
   "cell_type": "code",
   "execution_count": 24,
   "metadata": {},
   "outputs": [
    {
     "data": {
      "text/html": [
       "<p>Next plague outbreak in Madagascar could be 'stronger': WHO\\n\\nGeneva - The World Health Organisation chief on Wednesday said a deadly plague epidemic <span style='background-color: red'>appeared </span>to have been brought under control in Madagascar, but warned the next outbreak would likely be stronger.\\n\\n\"<span style='background-color: red'>The next transmission could be more pronounced or stronger,</span>\" WHO Director-General Tedros Adhanom Ghebreyesus told reporters in Geneva, insisting that \"the issue is serious.\"\\n\\nAn outbreak of both bubonic plague, which is spread by infected rats via flea bites, and pneumonic plague, spread person to person, has killed more than 200 people in the Indian Ocean island nation since August.\\n\\nMadagascar has suffered bubonic plague outbreaks almost every year since 1980, often caused by rats fleeing forest fires.\\n\\nThe disease tends to make a comeback each hot rainy season, from September to April.\\nOn average, between 300 and 600 infections are recorded every year among a population approaching 25 million people, according to a UN estimate.\\n\\nBut Tedros voiced alarm that \"plague in Madagascar behaved in <span style='background-color: red'>a very, very different </span>way this year.\"\\n\\nCases sprang up far earlier than usual and, instead of being confined to the countryside, the disease infiltrated towns.\\nThe authorities recorded more than 2 000 cases, and Tedros said Wednesday the death toll stood at 207.\\n\\n<span style='background-color: red'>He also pointed to the presence of the pneumonic version, which spreads more easily and is more virulent, in the latest outbreak.</span>\\n\\nHe praised the rapid response from WHO and Madagascar authorities that helped bring the outbreak under control, <span style='background-color: red'>but warned that the danger was not over.</span>\\n\\nThe larger-than-usual outbreak had helped spread the bacteria that causes the plague more widely.\\n\\nThis along with poor sanitation and vector control on Madagascar meant that \"<span style='background-color: red'>when (the plague) comes again it starts from more stock, and the magnitude in the next transmission could be higher than the one that we saw,</span>\" Tedros said.\\n\\n\"That means that Madagascar could be affected more, and not only that, <span style='background-color: red'>it could even spill over into neighbouring countries and beyond,</span>\" he warned.\\n\\nComplicating vector control is the fact that the fleas that carry the Yersinia pestis bacteria that causes the plague have proven to be widely resistant to chemicals and insecticides.\\n\\n\"That's a dangerous combination,\" Tedros said.\\n</p>"
      ],
      "text/plain": [
       "<IPython.core.display.HTML object>"
      ]
     },
     "execution_count": 24,
     "metadata": {},
     "output_type": "execute_result"
    }
   ],
   "source": [
    "html_view(0)"
   ]
  },
  {
   "cell_type": "code",
   "execution_count": 15,
   "metadata": {},
   "outputs": [
    {
     "data": {
      "text/plain": [
       "16691"
      ]
     },
     "execution_count": 15,
     "metadata": {},
     "output_type": "execute_result"
    }
   ],
   "source": [
    "# total number of examples\n",
    "len(items)"
   ]
  },
  {
   "cell_type": "code",
   "execution_count": 25,
   "metadata": {},
   "outputs": [],
   "source": [
    "# sanity check\n",
    "for sentence, label in items:\n",
    "    assert type(sentence) == str"
   ]
  },
  {
   "cell_type": "code",
   "execution_count": 28,
   "metadata": {},
   "outputs": [],
   "source": [
    "# sanity check to make sure no empty sentences\n",
    "for sentence, label in items:\n",
    "    assert len(sentence) > 0"
   ]
  },
  {
   "cell_type": "markdown",
   "metadata": {},
   "source": [
    "## Processed Dataset Distribution"
   ]
  },
  {
   "cell_type": "code",
   "execution_count": 30,
   "metadata": {},
   "outputs": [
    {
     "data": {
      "text/plain": [
       "<Axes: >"
      ]
     },
     "execution_count": 30,
     "metadata": {},
     "output_type": "execute_result"
    },
    {
     "data": {
      "image/png": "[encoded data removed]",
      "text/plain": [
       "<Figure size 640x480 with 1 Axes>"
      ]
     },
     "metadata": {},
     "output_type": "display_data"
    }
   ],
   "source": [
    "# label distribution\n",
    "item_distribution = {False:0, True:0}\n",
    "for sentence, label in items:\n",
    "    item_distribution[label] += 1\n",
    "sns.barplot(item_distribution)"
   ]
  },
  {
   "cell_type": "code",
   "execution_count": 31,
   "metadata": {},
   "outputs": [
    {
     "data": {
      "text/plain": [
       "<seaborn.axisgrid.FacetGrid at 0x705dfe875950>"
      ]
     },
     "execution_count": 31,
     "metadata": {},
     "output_type": "execute_result"
    },
    {
     "data": {
      "image/png": "[encoded data removed]",
      "text/plain": [
       "<Figure size 500x500 with 1 Axes>"
      ]
     },
     "metadata": {},
     "output_type": "display_data"
    }
   ],
   "source": [
    "# length distribution\n",
    "lengths = []\n",
    "for sentence, _ in items:\n",
    "    lengths.append(len(sentence))\n",
    "sns.displot(lengths)"
   ]
  },
  {
   "cell_type": "code",
   "execution_count": 32,
   "metadata": {},
   "outputs": [],
   "source": [
    "THRESH = 10\n",
    "check = []\n",
    "for sentence, _ in items:\n",
    "    if len(sentence) < THRESH:\n",
    "        check.append(sentence)"
   ]
  },
  {
   "cell_type": "code",
   "execution_count": 33,
   "metadata": {},
   "outputs": [
    {
     "data": {
      "text/plain": [
       "['SPONSORED',\n",
       " '1',\n",
       " '2',\n",
       " '3',\n",
       " 'Perhaps.',\n",
       " 'The Rev.',\n",
       " 'Bush.)',\n",
       " '.',\n",
       " '.',\n",
       " 'Wait!',\n",
       " 'Wait!',\n",
       " 'Give.',\n",
       " 'Me.',\n",
       " 'A.',\n",
       " 'Break.',\n",
       " 'Like C.S.',\n",
       " '!”',\n",
       " '[…]',\n",
       " '[1]',\n",
       " '?',\n",
       " '?',\n",
       " '–Newsweek',\n",
       " '1.',\n",
       " '2.',\n",
       " '3.',\n",
       " '“',\n",
       " 'and',\n",
       " 'Really?',\n",
       " 'Really?',\n",
       " 'Fr.',\n",
       " 'Fr.',\n",
       " 'And mean.',\n",
       " 'Perjury.',\n",
       " 'A liar.',\n",
       " 'Yet Fr.',\n",
       " 'Fr.',\n",
       " 'Fr.',\n",
       " '248-250).',\n",
       " '.',\n",
       " '.',\n",
       " '* * *',\n",
       " '* * *',\n",
       " '??Steff??',\n",
       " '?',\n",
       " '!',\n",
       " '?',\n",
       " '?',\n",
       " '.',\n",
       " \"'”\",\n",
       " 'Parolin',\n",
       " '2:11).',\n",
       " '\\ufeff',\n",
       " 'Indeed!',\n",
       " '–DOJ',\n",
       " '57).',\n",
       " 'and',\n",
       " 'Shock!',\n",
       " 'Fr.',\n",
       " 'From TPM:',\n",
       " 'he said.',\n",
       " 'Paddock.\"',\n",
       " '\"No.',\n",
       " '.',\n",
       " '.',\n",
       " 'MJM',\n",
       " 'Why?',\n",
       " 'Why?',\n",
       " 'Mgr.',\n",
       " 'Mgr.',\n",
       " 'Why?',\n",
       " 'From God.',\n",
       " 'Why?',\n",
       " 'No faith.',\n",
       " 'Not pope.',\n",
       " 'Disobey?',\n",
       " 'Ay.',\n",
       " 'Very bad.',\n",
       " 'Montini.',\n",
       " 'And why?',\n",
       " 'NOTES:',\n",
       " ').',\n",
       " 'Pic: NASA',\n",
       " 'No, sins.',\n",
       " 'Notes:',\n",
       " 'Related',\n",
       " 'Why?',\n",
       " ').',\n",
       " 'Finally,',\n",
       " '[More]',\n",
       " 'Why?',\n",
       " 'No.',\n",
       " 'and',\n",
       " '[...]',\n",
       " '[…]',\n",
       " '[…]',\n",
       " '[1]',\n",
       " '[2]',\n",
       " '[3]',\n",
       " '.',\n",
       " '.',\n",
       " 'No.',\n",
       " 'Indiana',\n",
       " 'Oregon',\n",
       " 'Alabama',\n",
       " 'Alaska',\n",
       " 'Arizona',\n",
       " 'Delaware',\n",
       " 'Florida',\n",
       " 'Hawaii',\n",
       " 'Illinois',\n",
       " 'Iowa',\n",
       " 'Kansas',\n",
       " 'Kentucky',\n",
       " 'Maryland',\n",
       " 'Michigan',\n",
       " 'Minnesota',\n",
       " 'Missouri',\n",
       " 'New York',\n",
       " 'Ohio',\n",
       " 'Tennessee',\n",
       " 'Utah',\n",
       " 'Vermont',\n",
       " 'Virginia',\n",
       " 'Two?',\n",
       " 'Five?',\n",
       " 'Ten?',\n",
       " 'Wow!',\n",
       " 'Indeed.',\n",
       " 'SO WHAT?',\n",
       " 'P.S.',\n",
       " 'To Kapos.',\n",
       " 'MJM',\n",
       " '“Card.',\n",
       " 'Progress!',\n",
       " 'Why?”',\n",
       " 'Email *',\n",
       " 'Read More',\n",
       " '“U.S.',\n",
       " 'Email *',\n",
       " 'Email *',\n",
       " 'Simple.',\n",
       " \"It isn't.\",\n",
       " \"It isn't.\",\n",
       " '“U.S.',\n",
       " 'Email *',\n",
       " 'Email *',\n",
       " 'Whoa!',\n",
       " 'Email *',\n",
       " 'Whoa!',\n",
       " 'Indeed.',\n",
       " 'Why?',\n",
       " 'Email *',\n",
       " 'Rupture?',\n",
       " '~',\n",
       " 'Email *',\n",
       " 'Email *',\n",
       " '–SHTFPlan',\n",
       " 'Email *',\n",
       " 'Email *',\n",
       " 'Great!',\n",
       " 'Why?',\n",
       " '~~~',\n",
       " '~~~',\n",
       " '~~~',\n",
       " '~~~',\n",
       " '~~~',\n",
       " '~~~',\n",
       " '~~~',\n",
       " 'General?',\n",
       " 'Fr.',\n",
       " 'Email *',\n",
       " 'Consider.',\n",
       " 'Consider.',\n",
       " '–Fox News',\n",
       " 'Email *',\n",
       " ')',\n",
       " '[U.S.',\n",
       " 'PDF',\n",
       " 'A TIE .',\n",
       " 'In May:',\n",
       " 'PDF',\n",
       " 'Sen.',\n",
       " 'Email *',\n",
       " 'Grant?',\n",
       " 'Wilson?',\n",
       " 'Harding?',\n",
       " 'Nixon?',\n",
       " 'Carter?',\n",
       " 'Laws?',\n",
       " 'Pah!',\n",
       " '\\ufeff',\n",
       " 'Like Webb',\n",
       " 'Right?',\n",
       " '“No.',\n",
       " 'Email *',\n",
       " 'Right?',\n",
       " '“No.',\n",
       " 'Email *',\n",
       " 'Email *',\n",
       " 'Wrong.',\n",
       " 'See?',\n",
       " '1.',\n",
       " '2.',\n",
       " 'Sure.',\n",
       " 'Email *',\n",
       " 'Email *',\n",
       " 'Why?',\n",
       " 'Email *',\n",
       " 'Email *',\n",
       " 'Anybody?',\n",
       " 'Yes.',\n",
       " 'Why?',\n",
       " 'Email *',\n",
       " 'Email *',\n",
       " 'Email *',\n",
       " 'Email *',\n",
       " 'Good.',\n",
       " 'Email *',\n",
       " 'Why?',\n",
       " 'Email *',\n",
       " '–SHTFPlan',\n",
       " '–SHTFPlan',\n",
       " '\\ufeff',\n",
       " 'Oregon',\n",
       " '–Fox News',\n",
       " 'Email *',\n",
       " '\\ufeff',\n",
       " '!',\n",
       " '!',\n",
       " '…',\n",
       " 'Email *',\n",
       " 'Why?',\n",
       " 'Email *',\n",
       " '2 p. 229)',\n",
       " 'Nowhere!',\n",
       " 'Email *',\n",
       " 'Email *',\n",
       " 'Why?',\n",
       " 'Email *',\n",
       " 'At all.',\n",
       " 'Email *',\n",
       " 'He’s 76.',\n",
       " '#bromance',\n",
       " 'Finally.',\n",
       " 'Email *',\n",
       " '!',\n",
       " '!',\n",
       " '!',\n",
       " '!',\n",
       " '———',\n",
       " 'Email *',\n",
       " 'At all.',\n",
       " '.',\n",
       " '.',\n",
       " '19:21).',\n",
       " '24:16).',\n",
       " '17:7).',\n",
       " '35:33).',\n",
       " '20:1-9).',\n",
       " '.',\n",
       " '.',\n",
       " '.',\n",
       " '.',\n",
       " '.',\n",
       " '.',\n",
       " '.',\n",
       " '.',\n",
       " '8:11).',\n",
       " '.',\n",
       " '.',\n",
       " '+++',\n",
       " '.',\n",
       " '.',\n",
       " '13:2-4).',\n",
       " '.',\n",
       " '.',\n",
       " '.',\n",
       " '(Apo.',\n",
       " '21:4).',\n",
       " \"8:7).'\",\n",
       " 'MJM',\n",
       " 'And why?',\n",
       " 'Yes.',\n",
       " 'Yes.',\n",
       " 'Most Rev.',\n",
       " 'MJM',\n",
       " '———',\n",
       " 'dpa',\n",
       " '———',\n",
       " '———',\n",
       " 'Why?',\n",
       " 'Email *',\n",
       " '———',\n",
       " 'Maybe.',\n",
       " 'It isn’t.',\n",
       " '12:3).',\n",
       " '* * *',\n",
       " '\\ufeff',\n",
       " 'Email *',\n",
       " 'Evidence.',\n",
       " '….',\n",
       " '*',\n",
       " '1.',\n",
       " '2.',\n",
       " '3.',\n",
       " '4.',\n",
       " '5.',\n",
       " 'Zilch.',\n",
       " '6.',\n",
       " '7.',\n",
       " '8.',\n",
       " '(P.S.',\n",
       " '9.',\n",
       " 'Watch:',\n",
       " '\\ufeff',\n",
       " 'VS:',\n",
       " '…',\n",
       " '…',\n",
       " \"'”\",\n",
       " 'Email *',\n",
       " 'Exactly!',\n",
       " '\\ufeff',\n",
       " 'Showdown?',\n",
       " 'Showdown?',\n",
       " '“Dr.',\n",
       " 'Email *',\n",
       " 'And now?',\n",
       " '?',\n",
       " 'Email *',\n",
       " '“Why not?',\n",
       " 'Email *',\n",
       " 'Timing',\n",
       " ').',\n",
       " '1.',\n",
       " '2.',\n",
       " '3.',\n",
       " '4.',\n",
       " '5.',\n",
       " '6.',\n",
       " '7.',\n",
       " '8.',\n",
       " '9.',\n",
       " '10.',\n",
       " 'Why?',\n",
       " 'MJM',\n",
       " 'Tit.',\n",
       " '*****',\n",
       " '*****',\n",
       " 'Email *',\n",
       " 'Email *',\n",
       " 'Email *',\n",
       " 'Comfort?',\n",
       " 'Email *',\n",
       " 'Why?',\n",
       " 'Nope.',\n",
       " 'Email *',\n",
       " 'McMaster.',\n",
       " 'Email *',\n",
       " 'K.T.',\n",
       " 'Email *',\n",
       " 'K.T.',\n",
       " '———',\n",
       " '———',\n",
       " '———',\n",
       " 'Email *',\n",
       " 'Mr.',\n",
       " 'Email *',\n",
       " '5 women.',\n",
       " 'Email *',\n",
       " 'Email *',\n",
       " 'Email *',\n",
       " 'Email *',\n",
       " 'Email *',\n",
       " 'Email *',\n",
       " 'Email *',\n",
       " 'Email *',\n",
       " 'Email *',\n",
       " '\"?',\n",
       " 'Email *',\n",
       " '.',\n",
       " 'Maybe?',\n",
       " 'Email *',\n",
       " '— Sec.',\n",
       " 'Maybe?',\n",
       " 'Email *',\n",
       " 'Maybe?',\n",
       " 'Email *',\n",
       " 'Maybe?',\n",
       " 'Email *',\n",
       " 'Facebook',\n",
       " 'Twitter',\n",
       " 'Google+',\n",
       " \"'”\",\n",
       " \"'”\",\n",
       " 'Alright?',\n",
       " 'Maybe?',\n",
       " 'Email *',\n",
       " 'Maybe?',\n",
       " 'Email *',\n",
       " 'Fed.',\n",
       " 'Maybe?',\n",
       " 'Email *',\n",
       " 'Yes No',\n",
       " 'Maybe?',\n",
       " 'Email *',\n",
       " '?',\n",
       " 'Maybe?',\n",
       " 'Email *',\n",
       " 'Maybe?',\n",
       " 'Email *',\n",
       " 'Murray:',\n",
       " '...',\n",
       " '...',\n",
       " '...',\n",
       " '...',\n",
       " '---',\n",
       " 'Comments']"
      ]
     },
     "execution_count": 33,
     "metadata": {},
     "output_type": "execute_result"
    }
   ],
   "source": [
    "check"
   ]
  },
  {
   "cell_type": "code",
   "execution_count": 34,
   "metadata": {},
   "outputs": [
    {
     "data": {
      "text/plain": [
       "417"
      ]
     },
     "execution_count": 34,
     "metadata": {},
     "output_type": "execute_result"
    }
   ],
   "source": [
    "len(check)"
   ]
  },
  {
   "cell_type": "code",
   "execution_count": null,
   "metadata": {},
   "outputs": [],
   "source": []
  }
 ],
 "metadata": {
  "kernelspec": {
   "display_name": "torch",
   "language": "python",
   "name": "python3"
  },
  "language_info": {
   "codemirror_mode": {
    "name": "ipython",
    "version": 3
   },
   "file_extension": ".py",
   "mimetype": "text/x-python",
   "name": "python",
   "nbconvert_exporter": "python",
   "pygments_lexer": "ipython3",
   "version": "3.11.0"
  }
 },
 "nbformat": 4,
 "nbformat_minor": 2
}

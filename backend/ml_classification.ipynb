{
 "cells": [
  {
   "cell_type": "markdown",
   "metadata": {},
   "source": [
    "# ML Binary Classification\n"
   ]
  },
  {
   "cell_type": "markdown",
   "metadata": {},
   "source": [
    "## Setup\n"
   ]
  },
  {
   "cell_type": "code",
   "execution_count": 1,
   "metadata": {},
   "outputs": [
    {
     "name": "stderr",
     "output_type": "stream",
     "text": [
      "[nltk_data] Downloading package punkt to /home/016854656/nltk_data...\n",
      "[nltk_data]   Package punkt is already up-to-date!\n"
     ]
    },
    {
     "data": {
      "text/plain": [
       "True"
      ]
     },
     "execution_count": 1,
     "metadata": {},
     "output_type": "execute_result"
    }
   ],
   "source": [
    "import datasets\n",
    "import nltk\n",
    "from nltk import sent_tokenize\n",
    "import torch\n",
    "import seaborn as sns\n",
    "import transformers\n",
    "from transformers import (\n",
    "    AutoModelForSequenceClassification,\n",
    "    AutoTokenizer,\n",
    "    Trainer,\n",
    "    DataCollatorWithPadding,\n",
    "    TrainingArguments,\n",
    ")\n",
    "import matplotlib.pyplot as plt\n",
    "import numpy as np\n",
    "import evaluate\n",
    "\n",
    "nltk.download(\"punkt\")"
   ]
  },
  {
   "cell_type": "code",
   "execution_count": 2,
   "metadata": {},
   "outputs": [
    {
     "data": {
      "text/plain": [
       "DatasetDict({\n",
       "    train: Dataset({\n",
       "        features: ['article_id', 'text', 'span_identification', 'technique_classification'],\n",
       "        num_rows: 371\n",
       "    })\n",
       "    test: Dataset({\n",
       "        features: ['article_id', 'text', 'span_identification', 'technique_classification'],\n",
       "        num_rows: 90\n",
       "    })\n",
       "    validation: Dataset({\n",
       "        features: ['article_id', 'text', 'span_identification', 'technique_classification'],\n",
       "        num_rows: 75\n",
       "    })\n",
       "})"
      ]
     },
     "execution_count": 2,
     "metadata": {},
     "output_type": "execute_result"
    }
   ],
   "source": [
    "ds = datasets.load_dataset(\"sem_eval_2020_task_11\", data_dir=\"./datasets\")\n",
    "ds"
   ]
  },
  {
   "cell_type": "code",
   "execution_count": 3,
   "metadata": {},
   "outputs": [],
   "source": [
    "def preprocess(ds: dict):\n",
    "    items = []\n",
    "    for entry in ds:\n",
    "        text: str = entry[\"text\"]\n",
    "        spans = list(\n",
    "            zip(\n",
    "                entry[\"technique_classification\"][\"start_char_offset\"],\n",
    "                entry[\"technique_classification\"][\"end_char_offset\"],\n",
    "            )\n",
    "        )\n",
    "        newline_split = text.split(\"\\n\")\n",
    "\n",
    "        for line in newline_split:\n",
    "            # figure out where the line is\n",
    "            tokenized_line = sent_tokenize(line)\n",
    "            for tokenized_sentence in tokenized_line:\n",
    "                assert type(tokenized_sentence) == str\n",
    "                index = text.index(tokenized_sentence)\n",
    "\n",
    "                is_classified = False\n",
    "                for i in range(len(tokenized_sentence)):\n",
    "                    for span in spans:\n",
    "                        if span[0] <= index + i <= span[1]:\n",
    "                            # mark it as true\n",
    "                            is_classified = True\n",
    "                            break\n",
    "\n",
    "                items.append((tokenized_sentence, is_classified))\n",
    "    return items\n",
    "\n",
    "\n",
    "train_preprocessed = preprocess(ds[\"train\"])\n",
    "validation_preprocessed = preprocess(ds[\"validation\"])\n",
    "test_preprocessed = preprocess(ds[\"test\"])"
   ]
  },
  {
   "cell_type": "code",
   "execution_count": 4,
   "metadata": {},
   "outputs": [
    {
     "data": {
      "text/plain": [
       "{'article_id': 'article813452859',\n",
       " 'text': \"EU Profits From Trading With UK While London Loses Money – Political Campaigner\\n\\nWith the Parliamentary vote on British Prime Minister Theresa May’s Brexit plan set to be held next month; President of the European Commission Jean Claude Juncker has criticised the UK’s preparations for their departure from the EU.\\nBut is there any chance that May's deal will make it through parliament and if it fails, how could this ongoing political deadlock finally come to an end?\\nSputnik spoke with political campaigner Michael Swadling for more…\\nSputnik: Does Theresa May have any chance of getting her deal through Parliament on the 14th January?\\nMichael Swadling: I guess her only chance is if Labour decides that they want to dishonour democracy and effectively keep us in the EU.\\n© AP Photo / Pablo Martinez Monsivais UK 'In Need of Leadership', May's Brexit Deal Unwelcome to Trump - US Ambassador\\nThere is a chance; as unfortunately there are many MPs who don't respect the vote and may just turn on it, but short of that I don't see any way the Conservatives would vote for it, and the majority is slender as it is, as the DUP is bitterly against it, and I can't see the Lib Dems voting for it, so it will only be if there are enough, what I can describe as remoaner MPs, that the deal won't be dead in the water.\\nSputnik: What could be a solution to the political chaos if the Prime Minister's deal is not approved?\\nMichael Swadling: The EU withdrawal act is in place; we'll leave and revert to WTO terms and that works, that's fine.\\nI often use the example of an iPhone to people; that's a piece of technology which is manufactured in China, uses American technology and these are two countries we deal with on WTO terms, this isn't a fantasy, stuck in a port somewhere, there isn't a massive tariff, this is the world that really exists today.\\nWhen we exit the EU on WTO terms; that will be fine for whatever trading we do with the EU, just as well as it does for our trade in China.\\nREAD MORE: UK Finance Chief Bashed for Failing to Unlock Money for No-Deal Brexit — Reports\\nSputnik: Do you think that the EU needs the UK more than the UK needs the EU?\\nMichael Swadling: The EU makes a profit on its trade with the UK; the UK makes a loss on its trade with the EU.\\nThey have a financial incentive to ensure that good trading relations continue far more than we do.\\n© REUTERS / Toby Melville UK Trade Minister Says '50-50' Chance Brexit Will Not Happen – Reports\\nThe lifeblood and cash flow that keeps manufacturing in Europe going, comes from the city of London.\\nIf someone in a city in Germany wants to do a deal with someone in Japan; the financial services of that are probably going through the city of London, they're not going through Frankfurt and Paris.\\nViews and opinions, expressed in the article are those of Michael Swadling and do not necessarily reflect those of Sputnik\\n\\n\",\n",
       " 'span_identification': {'start_char_offset': [], 'end_char_offset': []},\n",
       " 'technique_classification': {'start_char_offset': [1293,\n",
       "   1801,\n",
       "   1128,\n",
       "   1581,\n",
       "   717,\n",
       "   1256,\n",
       "   657,\n",
       "   1508,\n",
       "   1019],\n",
       "  'end_char_offset': [1310, 1843, 1147, 1843, 739, 1268, 773, 1531, 1112],\n",
       "  'technique': [-1, -1, -1, -1, -1, -1, -1, -1, -1]}}"
      ]
     },
     "execution_count": 4,
     "metadata": {},
     "output_type": "execute_result"
    }
   ],
   "source": [
    "ds[\"test\"][0]"
   ]
  },
  {
   "cell_type": "markdown",
   "metadata": {},
   "source": [
    "## Dataset Configuration\n"
   ]
  },
  {
   "cell_type": "code",
   "execution_count": 5,
   "metadata": {},
   "outputs": [],
   "source": [
    "MIN_LENGTH = 10  # minimum number of characters per sentence\n",
    "\n",
    "\n",
    "def cap(ds: list):\n",
    "    temp = []\n",
    "    for entry in ds:\n",
    "        if len(entry[0]) >= MIN_LENGTH:\n",
    "            temp.append(entry)\n",
    "    return temp\n",
    "\n",
    "\n",
    "train_preprocessed = cap(train_preprocessed)\n",
    "validation_preprocessed = cap(validation_preprocessed)\n",
    "test_preprocessed = cap(test_preprocessed)"
   ]
  },
  {
   "cell_type": "code",
   "execution_count": 6,
   "metadata": {},
   "outputs": [
    {
     "name": "stdout",
     "output_type": "stream",
     "text": [
      "Trues: 0.2900946294703208, Falses: 0.7099053705296793\n"
     ]
    },
    {
     "data": {
      "text/plain": [
       "([<matplotlib.patches.Wedge at 0x7f8eed9b99d0>,\n",
       "  <matplotlib.patches.Wedge at 0x7f8eed9ba790>],\n",
       " [Text(0.6739392966959616, 0.8693709360042771, 'True'),\n",
       "  Text(-0.6739392152995776, -0.8693709991030238, 'False')])"
      ]
     },
     "execution_count": 6,
     "metadata": {},
     "output_type": "execute_result"
    },
    {
     "data": {
      "image/png": "[encoded data removed]",
      "text/plain": [
       "<Figure size 640x480 with 1 Axes>"
      ]
     },
     "metadata": {},
     "output_type": "display_data"
    }
   ],
   "source": [
    "def make_plots(ds: list):\n",
    "    labels = [label for _, label in ds]\n",
    "    trues, falses = labels.count(True), labels.count(False)\n",
    "    print(f\"Trues: {trues/len(labels)}, Falses: {falses/len(labels)}\")\n",
    "    return plt.pie([trues, falses], labels=[\"True\", \"False\"])\n",
    "\n",
    "\n",
    "make_plots(train_preprocessed)"
   ]
  },
  {
   "cell_type": "code",
   "execution_count": 7,
   "metadata": {},
   "outputs": [
    {
     "name": "stdout",
     "output_type": "stream",
     "text": [
      "Trues: 0.2544744549300358, Falses: 0.7455255450699642\n"
     ]
    },
    {
     "data": {
      "text/plain": [
       "([<matplotlib.patches.Wedge at 0x7f8eeb819ed0>,\n",
       "  <matplotlib.patches.Wedge at 0x7f8eeb824d10>],\n",
       " [Text(0.7668072445634918, 0.7886739818739715, 'True'),\n",
       "  Text(-0.7668072445634918, -0.7886739818739713, 'False')])"
      ]
     },
     "execution_count": 7,
     "metadata": {},
     "output_type": "execute_result"
    },
    {
     "data": {
      "image/png": "[encoded data removed]",
      "text/plain": [
       "<Figure size 640x480 with 1 Axes>"
      ]
     },
     "metadata": {},
     "output_type": "display_data"
    }
   ],
   "source": [
    "make_plots(validation_preprocessed)"
   ]
  },
  {
   "cell_type": "code",
   "execution_count": 8,
   "metadata": {},
   "outputs": [
    {
     "name": "stdout",
     "output_type": "stream",
     "text": [
      "Trues: 0.3550540368722187, Falses: 0.6449459631277813\n"
     ]
    },
    {
     "data": {
      "text/plain": [
       "([<matplotlib.patches.Wedge at 0x7f8eedbfce10>,\n",
       "  <matplotlib.patches.Wedge at 0x7f8eeb863b10>],\n",
       " [Text(0.48376534110686337, 0.9879124934647605, 'True'),\n",
       "  Text(-0.4837652486118186, -0.9879125387581359, 'False')])"
      ]
     },
     "execution_count": 8,
     "metadata": {},
     "output_type": "execute_result"
    },
    {
     "data": {
      "image/png": "[encoded data removed]",
      "text/plain": [
       "<Figure size 640x480 with 1 Axes>"
      ]
     },
     "metadata": {},
     "output_type": "display_data"
    }
   ],
   "source": [
    "make_plots(test_preprocessed)"
   ]
  },
  {
   "cell_type": "markdown",
   "metadata": {},
   "source": [
    "## Setup Model Workflow\n"
   ]
  },
  {
   "cell_type": "code",
   "execution_count": 9,
   "metadata": {},
   "outputs": [
    {
     "name": "stderr",
     "output_type": "stream",
     "text": [
      "Some weights of BertForSequenceClassification were not initialized from the model checkpoint at bert-large-cased and are newly initialized: ['classifier.bias', 'classifier.weight']\n",
      "You should probably TRAIN this model on a down-stream task to be able to use it for predictions and inference.\n"
     ]
    }
   ],
   "source": [
    "model_name = \"bert-large-cased\"\n",
    "tokenizer = AutoTokenizer.from_pretrained(model_name)\n",
    "model = AutoModelForSequenceClassification.from_pretrained(model_name, num_labels=2)"
   ]
  },
  {
   "cell_type": "markdown",
   "metadata": {},
   "source": [
    "## Format Dataset\n"
   ]
  },
  {
   "cell_type": "code",
   "execution_count": 10,
   "metadata": {},
   "outputs": [],
   "source": [
    "train = datasets.Dataset.from_dict(\n",
    "    {\n",
    "        \"text\": [sentence for sentence, _ in train_preprocessed],\n",
    "        \"labels\": [1 if label else 0 for _, label in train_preprocessed],\n",
    "    }\n",
    ")\n",
    "validation = datasets.Dataset.from_dict(\n",
    "    {\n",
    "        \"text\": [sentence for sentence, _ in validation_preprocessed],\n",
    "        \"labels\": [1 if label else 0 for _, label in validation_preprocessed],\n",
    "    }\n",
    ")\n",
    "test = datasets.Dataset.from_dict(\n",
    "    {\n",
    "        \"text\": [sentence for sentence, _ in test_preprocessed],\n",
    "        \"labels\": [1 if label else 0 for _, label in test_preprocessed],\n",
    "    }\n",
    ")"
   ]
  },
  {
   "cell_type": "code",
   "execution_count": 11,
   "metadata": {},
   "outputs": [
    {
     "data": {
      "application/vnd.jupyter.widget-view+json": {
       "model_id": "112d4c61cd7a49b5927cd5dc9e7ce5eb",
       "version_major": 2,
       "version_minor": 0
      },
      "text/plain": [
       "Map:   0%|          | 0/16274 [00:00<?, ? examples/s]"
      ]
     },
     "metadata": {},
     "output_type": "display_data"
    },
    {
     "data": {
      "application/vnd.jupyter.widget-view+json": {
       "model_id": "80c61d25efa943239d4716114b33563c",
       "version_major": 2,
       "version_minor": 0
      },
      "text/plain": [
       "Map:   0%|          | 0/3073 [00:00<?, ? examples/s]"
      ]
     },
     "metadata": {},
     "output_type": "display_data"
    },
    {
     "data": {
      "application/vnd.jupyter.widget-view+json": {
       "model_id": "14fd3232fa91415292f6a2f0489b3dbf",
       "version_major": 2,
       "version_minor": 0
      },
      "text/plain": [
       "Map:   0%|          | 0/3146 [00:00<?, ? examples/s]"
      ]
     },
     "metadata": {},
     "output_type": "display_data"
    }
   ],
   "source": [
    "def preprocess_function(examples):\n",
    "    return tokenizer(examples[\"text\"], truncation=True)\n",
    "\n",
    "\n",
    "train = train.map(preprocess_function)\n",
    "validation = validation.map(preprocess_function)\n",
    "test = test.map(preprocess_function)"
   ]
  },
  {
   "cell_type": "markdown",
   "metadata": {},
   "source": [
    "## Training Args and Training\n"
   ]
  },
  {
   "cell_type": "code",
   "execution_count": 12,
   "metadata": {},
   "outputs": [],
   "source": [
    "collator = DataCollatorWithPadding(tokenizer)"
   ]
  },
  {
   "cell_type": "code",
   "execution_count": 13,
   "metadata": {},
   "outputs": [],
   "source": [
    "metrics = evaluate.combine([\"accuracy\", \"recall\", \"precision\", \"f1\"])\n",
    "def compute_metrics(eval_pred):\n",
    "    predictions, labels = eval_pred\n",
    "    predictions = np.argmax(predictions, axis=1)\n",
    "    \n",
    "    return metrics.compute(predictions=predictions, references=labels)"
   ]
  },
  {
   "cell_type": "code",
   "execution_count": 14,
   "metadata": {},
   "outputs": [],
   "source": [
    "args = TrainingArguments(\n",
    "    run_name=\"metrics_large\",\n",
    "    num_train_epochs=1,\n",
    "    output_dir=\"./runs\",\n",
    "    per_device_train_batch_size=12,\n",
    "    weight_decay=0.1,\n",
    "    learning_rate=7e-5,\n",
    "    evaluation_strategy=\"steps\",\n",
    "    eval_steps=500,\n",
    "    logging_steps=100,\n",
    ")"
   ]
  },
  {
   "cell_type": "code",
   "execution_count": 15,
   "metadata": {},
   "outputs": [],
   "source": [
    "trainer = Trainer(\n",
    "    model,\n",
    "    args=args,\n",
    "    data_collator=collator,\n",
    "    train_dataset=train,\n",
    "    eval_dataset=validation,\n",
    "    tokenizer=tokenizer,\n",
    "    compute_metrics=compute_metrics,\n",
    ")"
   ]
  },
  {
   "cell_type": "code",
   "execution_count": 16,
   "metadata": {},
   "outputs": [],
   "source": [
    "# trainer.train()"
   ]
  },
  {
   "cell_type": "code",
   "execution_count": null,
   "metadata": {},
   "outputs": [],
   "source": []
  }
 ],
 "metadata": {
  "kernelspec": {
   "display_name": "Python 3 (ipykernel)",
   "language": "python",
   "name": "python3"
  },
  "language_info": {
   "codemirror_mode": {
    "name": "ipython",
    "version": 3
   },
   "file_extension": ".py",
   "mimetype": "text/x-python",
   "name": "python",
   "nbconvert_exporter": "python",
   "pygments_lexer": "ipython3",
   "version": "3.11.5"
  }
 },
 "nbformat": 4,
 "nbformat_minor": 2
}

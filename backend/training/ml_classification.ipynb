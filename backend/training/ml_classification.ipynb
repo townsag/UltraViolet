{
 "cells": [
  {
   "cell_type": "markdown",
   "metadata": {},
   "source": [
    "# ML Binary Classification\n"
   ]
  },
  {
   "cell_type": "markdown",
   "metadata": {},
   "source": [
    "## Setup\n"
   ]
  },
  {
   "cell_type": "code",
   "execution_count": 1,
   "metadata": {},
   "outputs": [
    {
     "name": "stderr",
     "output_type": "stream",
     "text": [
      "[nltk_data] Downloading package punkt to /home/016854656/nltk_data...\n",
      "[nltk_data]   Package punkt is already up-to-date!\n"
     ]
    },
    {
     "data": {
      "text/plain": [
       "True"
      ]
     },
     "execution_count": 1,
     "metadata": {},
     "output_type": "execute_result"
    }
   ],
   "source": [
    "import datasets\n",
    "import nltk\n",
    "from nltk import sent_tokenize\n",
    "import torch\n",
    "import os\n",
    "import seaborn as sns\n",
    "import transformers\n",
    "from transformers import (\n",
    "    AutoModelForSequenceClassification,\n",
    "    AutoTokenizer,\n",
    "    Trainer,\n",
    "    DataCollatorWithPadding,\n",
    "    TrainingArguments,\n",
    ")\n",
    "import matplotlib.pyplot as plt\n",
    "import numpy as np\n",
    "import evaluate\n",
    "import random\n",
    "\n",
    "nltk.download(\"punkt\")"
   ]
  },
  {
   "cell_type": "code",
   "execution_count": 2,
   "metadata": {},
   "outputs": [],
   "source": [
    "os.environ[\"TOKENIZERS_PARALLELISM\"] = \"True\""
   ]
  },
  {
   "cell_type": "code",
   "execution_count": 3,
   "metadata": {},
   "outputs": [
    {
     "data": {
      "text/plain": [
       "DatasetDict({\n",
       "    train: Dataset({\n",
       "        features: ['article_id', 'text', 'span_identification', 'technique_classification'],\n",
       "        num_rows: 371\n",
       "    })\n",
       "    test: Dataset({\n",
       "        features: ['article_id', 'text', 'span_identification', 'technique_classification'],\n",
       "        num_rows: 90\n",
       "    })\n",
       "    validation: Dataset({\n",
       "        features: ['article_id', 'text', 'span_identification', 'technique_classification'],\n",
       "        num_rows: 75\n",
       "    })\n",
       "})"
      ]
     },
     "execution_count": 3,
     "metadata": {},
     "output_type": "execute_result"
    }
   ],
   "source": [
    "ds = datasets.load_dataset(\"sem_eval_2020_task_11\", data_dir=\"./datasets\")\n",
    "ds"
   ]
  },
  {
   "cell_type": "code",
   "execution_count": 4,
   "metadata": {},
   "outputs": [],
   "source": [
    "def preprocess(ds: dict):\n",
    "    items = []\n",
    "    for entry in ds:\n",
    "        text: str = entry[\"text\"]\n",
    "        spans = list(\n",
    "            zip(\n",
    "                entry[\"technique_classification\"][\"start_char_offset\"],\n",
    "                entry[\"technique_classification\"][\"end_char_offset\"],\n",
    "            )\n",
    "        )\n",
    "        newline_split = text.split(\"\\n\")\n",
    "\n",
    "        for line in newline_split:\n",
    "            # figure out where the line is\n",
    "            tokenized_line = sent_tokenize(line)\n",
    "            for tokenized_sentence in tokenized_line:\n",
    "                assert type(tokenized_sentence) == str\n",
    "                index = text.index(tokenized_sentence)\n",
    "\n",
    "                is_classified = False\n",
    "                for i in range(len(tokenized_sentence)):\n",
    "                    for span in spans:\n",
    "                        if span[0] <= index + i <= span[1]:\n",
    "                            # mark it as true\n",
    "                            is_classified = True\n",
    "                            break\n",
    "\n",
    "                items.append((tokenized_sentence, is_classified))\n",
    "    return items\n",
    "\n",
    "\n",
    "train_preprocessed = preprocess(ds[\"train\"])\n",
    "validation_preprocessed = preprocess(ds[\"validation\"])\n",
    "test_preprocessed = preprocess(ds[\"test\"])"
   ]
  },
  {
   "cell_type": "code",
   "execution_count": 5,
   "metadata": {},
   "outputs": [
    {
     "data": {
      "text/plain": [
       "{'article_id': 'article813452859',\n",
       " 'text': \"EU Profits From Trading With UK While London Loses Money – Political Campaigner\\n\\nWith the Parliamentary vote on British Prime Minister Theresa May’s Brexit plan set to be held next month; President of the European Commission Jean Claude Juncker has criticised the UK’s preparations for their departure from the EU.\\nBut is there any chance that May's deal will make it through parliament and if it fails, how could this ongoing political deadlock finally come to an end?\\nSputnik spoke with political campaigner Michael Swadling for more…\\nSputnik: Does Theresa May have any chance of getting her deal through Parliament on the 14th January?\\nMichael Swadling: I guess her only chance is if Labour decides that they want to dishonour democracy and effectively keep us in the EU.\\n© AP Photo / Pablo Martinez Monsivais UK 'In Need of Leadership', May's Brexit Deal Unwelcome to Trump - US Ambassador\\nThere is a chance; as unfortunately there are many MPs who don't respect the vote and may just turn on it, but short of that I don't see any way the Conservatives would vote for it, and the majority is slender as it is, as the DUP is bitterly against it, and I can't see the Lib Dems voting for it, so it will only be if there are enough, what I can describe as remoaner MPs, that the deal won't be dead in the water.\\nSputnik: What could be a solution to the political chaos if the Prime Minister's deal is not approved?\\nMichael Swadling: The EU withdrawal act is in place; we'll leave and revert to WTO terms and that works, that's fine.\\nI often use the example of an iPhone to people; that's a piece of technology which is manufactured in China, uses American technology and these are two countries we deal with on WTO terms, this isn't a fantasy, stuck in a port somewhere, there isn't a massive tariff, this is the world that really exists today.\\nWhen we exit the EU on WTO terms; that will be fine for whatever trading we do with the EU, just as well as it does for our trade in China.\\nREAD MORE: UK Finance Chief Bashed for Failing to Unlock Money for No-Deal Brexit — Reports\\nSputnik: Do you think that the EU needs the UK more than the UK needs the EU?\\nMichael Swadling: The EU makes a profit on its trade with the UK; the UK makes a loss on its trade with the EU.\\nThey have a financial incentive to ensure that good trading relations continue far more than we do.\\n© REUTERS / Toby Melville UK Trade Minister Says '50-50' Chance Brexit Will Not Happen – Reports\\nThe lifeblood and cash flow that keeps manufacturing in Europe going, comes from the city of London.\\nIf someone in a city in Germany wants to do a deal with someone in Japan; the financial services of that are probably going through the city of London, they're not going through Frankfurt and Paris.\\nViews and opinions, expressed in the article are those of Michael Swadling and do not necessarily reflect those of Sputnik\\n\\n\",\n",
       " 'span_identification': {'start_char_offset': [], 'end_char_offset': []},\n",
       " 'technique_classification': {'start_char_offset': [1293,\n",
       "   1801,\n",
       "   1128,\n",
       "   1581,\n",
       "   717,\n",
       "   1256,\n",
       "   657,\n",
       "   1508,\n",
       "   1019],\n",
       "  'end_char_offset': [1310, 1843, 1147, 1843, 739, 1268, 773, 1531, 1112],\n",
       "  'technique': [-1, -1, -1, -1, -1, -1, -1, -1, -1]}}"
      ]
     },
     "execution_count": 5,
     "metadata": {},
     "output_type": "execute_result"
    }
   ],
   "source": [
    "ds[\"test\"][0]"
   ]
  },
  {
   "cell_type": "markdown",
   "metadata": {},
   "source": [
    "## Dataset Configuration\n"
   ]
  },
  {
   "cell_type": "code",
   "execution_count": 6,
   "metadata": {},
   "outputs": [],
   "source": [
    "MIN_LENGTH = 30  # minimum number of characters per sentence\n",
    "\n",
    "\n",
    "def cap(ds: list):\n",
    "    temp = []\n",
    "    for entry in ds:\n",
    "        if len(entry[0]) >= MIN_LENGTH:\n",
    "            temp.append(entry)\n",
    "    return temp\n",
    "\n",
    "\n",
    "train_preprocessed = cap(train_preprocessed)\n",
    "validation_preprocessed = cap(validation_preprocessed)\n",
    "test_preprocessed = cap(test_preprocessed)"
   ]
  },
  {
   "cell_type": "code",
   "execution_count": 7,
   "metadata": {},
   "outputs": [
    {
     "name": "stdout",
     "output_type": "stream",
     "text": [
      "Trues: 0.3002474750852786, Falses: 0.6997525249147214\n"
     ]
    },
    {
     "data": {
      "text/plain": [
       "([<matplotlib.patches.Wedge at 0x7f4d12f7ba10>,\n",
       "  <matplotlib.patches.Wedge at 0x7f4d12f7bed0>],\n",
       " [Text(0.6458717412455275, 0.890421076716219, 'True'),\n",
       "  Text(-0.6458718246127623, -0.8904210162453385, 'False')])"
      ]
     },
     "execution_count": 7,
     "metadata": {},
     "output_type": "execute_result"
    },
    {
     "data": {
      "image/png": "[encoded data removed]",
      "text/plain": [
       "<Figure size 640x480 with 1 Axes>"
      ]
     },
     "metadata": {},
     "output_type": "display_data"
    }
   ],
   "source": [
    "def make_plots(ds: list):\n",
    "    labels = [label for _, label in ds]\n",
    "    trues, falses = labels.count(True), labels.count(False)\n",
    "    print(f\"Trues: {trues/len(labels)}, Falses: {falses/len(labels)}\")\n",
    "    return plt.pie([trues, falses], labels=[\"True\", \"False\"])\n",
    "\n",
    "\n",
    "make_plots(train_preprocessed)"
   ]
  },
  {
   "cell_type": "code",
   "execution_count": 8,
   "metadata": {},
   "outputs": [
    {
     "name": "stdout",
     "output_type": "stream",
     "text": [
      "Trues: 0.2624113475177305, Falses: 0.7375886524822695\n"
     ]
    },
    {
     "data": {
      "text/plain": [
       "([<matplotlib.patches.Wedge at 0x7f4d12fb4690>,\n",
       "  <matplotlib.patches.Wedge at 0x7f4d12fe1010>],\n",
       " [Text(0.7469057374428835, 0.8075467908269479, 'True'),\n",
       "  Text(-0.7469057374428835, -0.8075467908269479, 'False')])"
      ]
     },
     "execution_count": 8,
     "metadata": {},
     "output_type": "execute_result"
    },
    {
     "data": {
      "image/png": "[encoded data removed]",
      "text/plain": [
       "<Figure size 640x480 with 1 Axes>"
      ]
     },
     "metadata": {},
     "output_type": "display_data"
    }
   ],
   "source": [
    "make_plots(validation_preprocessed)"
   ]
  },
  {
   "cell_type": "code",
   "execution_count": 9,
   "metadata": {},
   "outputs": [
    {
     "name": "stdout",
     "output_type": "stream",
     "text": [
      "Trues: 0.3624957612750085, Falses: 0.6375042387249915\n"
     ]
    },
    {
     "data": {
      "text/plain": [
       "([<matplotlib.patches.Wedge at 0x7f4d10e39a90>,\n",
       "  <matplotlib.patches.Wedge at 0x7f4d10e3a2d0>],\n",
       " [Text(0.4605390485069661, 0.9989513425589349, 'True'),\n",
       "  Text(-0.4605391420355388, -0.9989512994401529, 'False')])"
      ]
     },
     "execution_count": 9,
     "metadata": {},
     "output_type": "execute_result"
    },
    {
     "data": {
      "image/png": "[encoded data removed]",
      "text/plain": [
       "<Figure size 640x480 with 1 Axes>"
      ]
     },
     "metadata": {},
     "output_type": "display_data"
    }
   ],
   "source": [
    "make_plots(test_preprocessed)"
   ]
  },
  {
   "cell_type": "markdown",
   "metadata": {},
   "source": [
    "## Balance Dataset"
   ]
  },
  {
   "cell_type": "code",
   "execution_count": 10,
   "metadata": {},
   "outputs": [
    {
     "name": "stdout",
     "output_type": "stream",
     "text": [
      "new length is 8978\n",
      "Trues: 0.5, Falses: 0.5\n"
     ]
    },
    {
     "data": {
      "text/plain": [
       "([<matplotlib.patches.Wedge at 0x7f4d10e7f0d0>,\n",
       "  <matplotlib.patches.Wedge at 0x7f4d10e7f5d0>],\n",
       " [Text(6.735557395310444e-17, 1.1, 'True'),\n",
       "  Text(-2.0206672185931328e-16, -1.1, 'False')])"
      ]
     },
     "execution_count": 10,
     "metadata": {},
     "output_type": "execute_result"
    },
    {
     "data": {
      "image/png": "[encoded data removed]",
      "text/plain": [
       "<Figure size 640x480 with 1 Axes>"
      ]
     },
     "metadata": {},
     "output_type": "display_data"
    }
   ],
   "source": [
    "def balance(ds):\n",
    "    trues = list(filter(lambda pair: pair[1], ds))\n",
    "    falses=  list(filter(lambda pair: not pair[1], ds))\n",
    "    n_trues = len(trues)\n",
    "    assert len(trues) + len(falses) == len(ds)\n",
    "    # make falses = trues\n",
    "    new_falses = random.sample(falses, k=len(trues))\n",
    "    assert len(new_falses) == len(trues)\n",
    "    reconstructed_ds = trues\n",
    "    reconstructed_ds.extend(new_falses)\n",
    "    assert len(reconstructed_ds) == 2*n_trues\n",
    "    random.shuffle(reconstructed_ds)\n",
    "    return reconstructed_ds\n",
    "\n",
    "train_balanced = balance(train_preprocessed)\n",
    "print(\"new length is\", len(train_balanced))\n",
    "make_plots(train_balanced)   "
   ]
  },
  {
   "cell_type": "code",
   "execution_count": 11,
   "metadata": {},
   "outputs": [
    {
     "data": {
      "text/plain": [
       "('I do not, as should be obvious, argue that this Leviathan Church actually exists.',\n",
       " False)"
      ]
     },
     "execution_count": 11,
     "metadata": {},
     "output_type": "execute_result"
    }
   ],
   "source": [
    "train_balanced[0]"
   ]
  },
  {
   "cell_type": "markdown",
   "metadata": {},
   "source": [
    "## Setup Model Workflow\n"
   ]
  },
  {
   "cell_type": "code",
   "execution_count": 12,
   "metadata": {},
   "outputs": [
    {
     "name": "stderr",
     "output_type": "stream",
     "text": [
      "Some weights of BertForSequenceClassification were not initialized from the model checkpoint at bert-large-cased and are newly initialized: ['classifier.bias', 'classifier.weight']\n",
      "You should probably TRAIN this model on a down-stream task to be able to use it for predictions and inference.\n"
     ]
    }
   ],
   "source": [
    "model_name = \"bert-large-cased\"\n",
    "tokenizer = AutoTokenizer.from_pretrained(model_name)\n",
    "model = AutoModelForSequenceClassification.from_pretrained(model_name, num_labels=2)"
   ]
  },
  {
   "cell_type": "markdown",
   "metadata": {},
   "source": [
    "## Format Dataset\n"
   ]
  },
  {
   "cell_type": "code",
   "execution_count": 13,
   "metadata": {},
   "outputs": [],
   "source": [
    "train = datasets.Dataset.from_dict(\n",
    "    {\n",
    "        \"text\": [sentence for sentence, _ in train_balanced],\n",
    "        \"labels\": [1 if label else 0 for _, label in train_balanced],\n",
    "    }\n",
    ")\n",
    "validation = datasets.Dataset.from_dict(\n",
    "    {\n",
    "        \"text\": [sentence for sentence, _ in validation_preprocessed],\n",
    "        \"labels\": [1 if label else 0 for _, label in validation_preprocessed],\n",
    "    }\n",
    ")\n",
    "test = datasets.Dataset.from_dict(\n",
    "    {\n",
    "        \"text\": [sentence for sentence, _ in test_preprocessed],\n",
    "        \"labels\": [1 if label else 0 for _, label in test_preprocessed],\n",
    "    }\n",
    ")"
   ]
  },
  {
   "cell_type": "code",
   "execution_count": 14,
   "metadata": {},
   "outputs": [
    {
     "data": {
      "application/vnd.jupyter.widget-view+json": {
       "model_id": "5d4ee8e05734407ead27b681e1c636ea",
       "version_major": 2,
       "version_minor": 0
      },
      "text/plain": [
       "Map:   0%|          | 0/8978 [00:00<?, ? examples/s]"
      ]
     },
     "metadata": {},
     "output_type": "display_data"
    },
    {
     "data": {
      "application/vnd.jupyter.widget-view+json": {
       "model_id": "9c5e383443b64e17bf2f7370967fc071",
       "version_major": 2,
       "version_minor": 0
      },
      "text/plain": [
       "Map:   0%|          | 0/2820 [00:00<?, ? examples/s]"
      ]
     },
     "metadata": {},
     "output_type": "display_data"
    },
    {
     "data": {
      "application/vnd.jupyter.widget-view+json": {
       "model_id": "fe6f5e1bbe6748d3866c06b959dfafcb",
       "version_major": 2,
       "version_minor": 0
      },
      "text/plain": [
       "Map:   0%|          | 0/2949 [00:00<?, ? examples/s]"
      ]
     },
     "metadata": {},
     "output_type": "display_data"
    }
   ],
   "source": [
    "def preprocess_function(examples):\n",
    "    return tokenizer(examples[\"text\"], truncation=True)\n",
    "\n",
    "\n",
    "train = train.map(preprocess_function)\n",
    "validation = validation.map(preprocess_function)\n",
    "test = test.map(preprocess_function)"
   ]
  },
  {
   "cell_type": "markdown",
   "metadata": {},
   "source": [
    "## Training Args and Training\n"
   ]
  },
  {
   "cell_type": "code",
   "execution_count": 15,
   "metadata": {},
   "outputs": [],
   "source": [
    "collator = DataCollatorWithPadding(tokenizer)"
   ]
  },
  {
   "cell_type": "code",
   "execution_count": 16,
   "metadata": {},
   "outputs": [],
   "source": [
    "metrics = evaluate.combine([\"accuracy\", \"recall\", \"precision\", \"f1\"])\n",
    "def compute_metrics(eval_pred):\n",
    "    predictions, labels = eval_pred\n",
    "    predictions = np.argmax(predictions, axis=1)\n",
    "    \n",
    "    return metrics.compute(predictions=predictions, references=labels)"
   ]
  },
  {
   "cell_type": "code",
   "execution_count": 17,
   "metadata": {},
   "outputs": [],
   "source": [
    "args = TrainingArguments(\n",
    "    num_train_epochs=6,\n",
    "    output_dir=\"./balanced2\",\n",
    "    per_device_train_batch_size=12,\n",
    "    learning_rate=5e-5,\n",
    "    evaluation_strategy=\"steps\",\n",
    "    eval_steps=500,\n",
    "    logging_steps=50,\n",
    "    dataloader_num_workers = 4,\n",
    "    warmup_steps=100,\n",
    "    gradient_accumulation_steps=2,\n",
    "    lr_scheduler_type=\"cosine\"\n",
    ")"
   ]
  },
  {
   "cell_type": "code",
   "execution_count": 18,
   "metadata": {},
   "outputs": [],
   "source": [
    "trainer = Trainer(\n",
    "    model,\n",
    "    args=args,\n",
    "    data_collator=collator,\n",
    "    train_dataset=train,\n",
    "    eval_dataset=validation,\n",
    "    tokenizer=tokenizer,\n",
    "    compute_metrics=compute_metrics,\n",
    ")"
   ]
  },
  {
   "cell_type": "code",
   "execution_count": 19,
   "metadata": {},
   "outputs": [
    {
     "name": "stderr",
     "output_type": "stream",
     "text": [
      "\u001b[34m\u001b[1mwandb\u001b[0m: Currently logged in as: \u001b[33mchrehall68\u001b[0m. Use \u001b[1m`wandb login --relogin`\u001b[0m to force relogin\n"
     ]
    },
    {
     "data": {
      "text/html": [
       "wandb version 0.16.6 is available!  To upgrade, please run:\n",
       " $ pip install wandb --upgrade"
      ],
      "text/plain": [
       "<IPython.core.display.HTML object>"
      ]
     },
     "metadata": {},
     "output_type": "display_data"
    },
    {
     "data": {
      "text/html": [
       "Tracking run with wandb version 0.16.5"
      ],
      "text/plain": [
       "<IPython.core.display.HTML object>"
      ]
     },
     "metadata": {},
     "output_type": "display_data"
    },
    {
     "data": {
      "text/html": [
       "Run data is saved locally in <code>/home/016854656/hackathon/wandb/run-20240427_181411-4r83g20n</code>"
      ],
      "text/plain": [
       "<IPython.core.display.HTML object>"
      ]
     },
     "metadata": {},
     "output_type": "display_data"
    },
    {
     "data": {
      "text/html": [
       "Syncing run <strong><a href='https://wandb.ai/chrehall68/huggingface/runs/4r83g20n/workspace' target=\"_blank\">classic-disco-32</a></strong> to <a href='https://wandb.ai/chrehall68/huggingface' target=\"_blank\">Weights & Biases</a> (<a href='https://wandb.me/run' target=\"_blank\">docs</a>)<br/>"
      ],
      "text/plain": [
       "<IPython.core.display.HTML object>"
      ]
     },
     "metadata": {},
     "output_type": "display_data"
    },
    {
     "data": {
      "text/html": [
       " View project at <a href='https://wandb.ai/chrehall68/huggingface' target=\"_blank\">https://wandb.ai/chrehall68/huggingface</a>"
      ],
      "text/plain": [
       "<IPython.core.display.HTML object>"
      ]
     },
     "metadata": {},
     "output_type": "display_data"
    },
    {
     "data": {
      "text/html": [
       " View run at <a href='https://wandb.ai/chrehall68/huggingface/runs/4r83g20n/workspace' target=\"_blank\">https://wandb.ai/chrehall68/huggingface/runs/4r83g20n/workspace</a>"
      ],
      "text/plain": [
       "<IPython.core.display.HTML object>"
      ]
     },
     "metadata": {},
     "output_type": "display_data"
    },
    {
     "data": {
      "text/html": [
       "\n",
       "    <div>\n",
       "      \n",
       "      <progress value='2244' max='2244' style='width:300px; height:20px; vertical-align: middle;'></progress>\n",
       "      [2244/2244 12:25, Epoch 5/6]\n",
       "    </div>\n",
       "    <table border=\"1\" class=\"dataframe\">\n",
       "  <thead>\n",
       " <tr style=\"text-align: left;\">\n",
       "      <th>Step</th>\n",
       "      <th>Training Loss</th>\n",
       "      <th>Validation Loss</th>\n",
       "      <th>Accuracy</th>\n",
       "      <th>Recall</th>\n",
       "      <th>Precision</th>\n",
       "      <th>F1</th>\n",
       "    </tr>\n",
       "  </thead>\n",
       "  <tbody>\n",
       "    <tr>\n",
       "      <td>500</td>\n",
       "      <td>0.481100</td>\n",
       "      <td>0.569372</td>\n",
       "      <td>0.732270</td>\n",
       "      <td>0.805405</td>\n",
       "      <td>0.493786</td>\n",
       "      <td>0.612224</td>\n",
       "    </tr>\n",
       "    <tr>\n",
       "      <td>1000</td>\n",
       "      <td>0.434900</td>\n",
       "      <td>0.558475</td>\n",
       "      <td>0.753191</td>\n",
       "      <td>0.793243</td>\n",
       "      <td>0.519469</td>\n",
       "      <td>0.627807</td>\n",
       "    </tr>\n",
       "    <tr>\n",
       "      <td>1500</td>\n",
       "      <td>0.314100</td>\n",
       "      <td>0.543302</td>\n",
       "      <td>0.776950</td>\n",
       "      <td>0.706757</td>\n",
       "      <td>0.559358</td>\n",
       "      <td>0.624478</td>\n",
       "    </tr>\n",
       "    <tr>\n",
       "      <td>2000</td>\n",
       "      <td>0.229400</td>\n",
       "      <td>0.587476</td>\n",
       "      <td>0.792553</td>\n",
       "      <td>0.689189</td>\n",
       "      <td>0.589595</td>\n",
       "      <td>0.635514</td>\n",
       "    </tr>\n",
       "  </tbody>\n",
       "</table><p>"
      ],
      "text/plain": [
       "<IPython.core.display.HTML object>"
      ]
     },
     "metadata": {},
     "output_type": "display_data"
    },
    {
     "data": {
      "text/plain": [
       "TrainOutput(global_step=2244, training_loss=0.4022040749616164, metrics={'train_runtime': 749.7384, 'train_samples_per_second': 71.849, 'train_steps_per_second': 2.993, 'total_flos': 7106781164248248.0, 'train_loss': 0.4022040749616164, 'epoch': 5.99})"
      ]
     },
     "execution_count": 19,
     "metadata": {},
     "output_type": "execute_result"
    }
   ],
   "source": [
    "trainer.train()"
   ]
  },
  {
   "cell_type": "code",
   "execution_count": 20,
   "metadata": {},
   "outputs": [
    {
     "data": {
      "text/html": [],
      "text/plain": [
       "<IPython.core.display.HTML object>"
      ]
     },
     "metadata": {},
     "output_type": "display_data"
    },
    {
     "data": {
      "text/plain": [
       "{'accuracy': 0.7165140725669719,\n",
       " 'recall': 0.6875584658559402,\n",
       " 'precision': 0.5941794664510913,\n",
       " 'f1': 0.6374674761491761}"
      ]
     },
     "execution_count": 20,
     "metadata": {},
     "output_type": "execute_result"
    }
   ],
   "source": [
    "predictions = trainer.predict(test)\n",
    "metrics.compute(predictions = np.argmax(predictions.predictions, axis=-1), references=predictions.label_ids)"
   ]
  },
  {
   "cell_type": "code",
   "execution_count": 21,
   "metadata": {},
   "outputs": [
    {
     "data": {
      "text/plain": [
       "array([   2,    5,    7, ..., 2939, 2941, 2943])"
      ]
     },
     "execution_count": 21,
     "metadata": {},
     "output_type": "execute_result"
    }
   ],
   "source": [
    "n_nonzero = np.argmax(predictions.predictions, axis=-1).nonzero()[0]\n",
    "n_nonzero"
   ]
  },
  {
   "cell_type": "code",
   "execution_count": 22,
   "metadata": {},
   "outputs": [
    {
     "data": {
      "text/plain": [
       "<Axes: >"
      ]
     },
     "execution_count": 22,
     "metadata": {},
     "output_type": "execute_result"
    },
    {
     "data": {
      "image/png": "[encoded data removed]",
      "text/plain": [
       "<Figure size 640x480 with 1 Axes>"
      ]
     },
     "metadata": {},
     "output_type": "display_data"
    }
   ],
   "source": [
    "sns.barplot({\"1\":n_nonzero, \"0\":predictions.predictions.shape[0]-n_nonzero})"
   ]
  },
  {
   "cell_type": "code",
   "execution_count": 23,
   "metadata": {},
   "outputs": [
    {
     "data": {
      "text/plain": [
       "{'accuracy': 0.508646998982706,\n",
       " 'recall': 0.5247895229186156,\n",
       " 'precision': 0.37350199733688416,\n",
       " 'f1': 0.4364060676779463}"
      ]
     },
     "execution_count": 23,
     "metadata": {},
     "output_type": "execute_result"
    }
   ],
   "source": [
    "random_benchmark = [random.randint(0, 1) for _ in range(len(test))]\n",
    "metrics.compute(random_benchmark, test['labels'])"
   ]
  },
  {
   "cell_type": "code",
   "execution_count": 25,
   "metadata": {},
   "outputs": [],
   "source": [
    "trainer.save_model(\"iteration_balanced_v2\")"
   ]
  },
  {
   "cell_type": "code",
   "execution_count": 44,
   "metadata": {},
   "outputs": [],
   "source": [
    "def eval(sentence:str):\n",
    "    with torch.no_grad():\n",
    "        outputs = model(**tokenizer(sentence, return_tensors='pt').to('cuda'))\n",
    "    print(outputs.logits)\n",
    "    print(torch.argmax(outputs.logits, dim=-1))\n"
   ]
  },
  {
   "cell_type": "code",
   "execution_count": 48,
   "metadata": {},
   "outputs": [
    {
     "name": "stdout",
     "output_type": "stream",
     "text": [
      "tensor([[-1.1743,  1.6882]], device='cuda:0')\n",
      "tensor([1], device='cuda:0')\n"
     ]
    }
   ],
   "source": [
    "eval(\"A is a dumb stupid letter.\")"
   ]
  },
  {
   "cell_type": "code",
   "execution_count": 45,
   "metadata": {},
   "outputs": [
    {
     "name": "stdout",
     "output_type": "stream",
     "text": [
      "tensor([[ 2.9766, -1.5220]], device='cuda:0')\n",
      "tensor([0], device='cuda:0')\n"
     ]
    }
   ],
   "source": [
    "eval(\"A is the first letter in the alphabet.\")"
   ]
  },
  {
   "cell_type": "code",
   "execution_count": 49,
   "metadata": {},
   "outputs": [
    {
     "name": "stdout",
     "output_type": "stream",
     "text": [
      "tensor([[ 3.2694, -2.1666]], device='cuda:0')\n",
      "tensor([0], device='cuda:0')\n"
     ]
    }
   ],
   "source": [
    "eval(\"Join us today and be part of a movement dedicated to creating a brighter future for generations to come.\")"
   ]
  },
  {
   "cell_type": "code",
   "execution_count": 50,
   "metadata": {},
   "outputs": [
    {
     "name": "stdout",
     "output_type": "stream",
     "text": [
      "tensor([[-0.1262,  0.1932]], device='cuda:0')\n",
      "tensor([1], device='cuda:0')\n"
     ]
    }
   ],
   "source": [
    "eval(\"The new WHO finding will shock you\")"
   ]
  },
  {
   "cell_type": "code",
   "execution_count": 51,
   "metadata": {},
   "outputs": [
    {
     "name": "stdout",
     "output_type": "stream",
     "text": [
      "tensor([[ 1.2318, -1.7926]], device='cuda:0')\n",
      "tensor([0], device='cuda:0')\n"
     ]
    }
   ],
   "source": [
    "eval(\"Dogs have pawsss.\")"
   ]
  },
  {
   "cell_type": "code",
   "execution_count": 52,
   "metadata": {},
   "outputs": [
    {
     "name": "stdout",
     "output_type": "stream",
     "text": [
      "tensor([[ 0.7354, -1.4906]], device='cuda:0')\n",
      "tensor([0], device='cuda:0')\n"
     ]
    }
   ],
   "source": [
    "eval(\"Dogs have paws.\")"
   ]
  },
  {
   "cell_type": "code",
   "execution_count": 53,
   "metadata": {},
   "outputs": [
    {
     "name": "stdout",
     "output_type": "stream",
     "text": [
      "tensor([[ 2.3354, -1.9767]], device='cuda:0')\n",
      "tensor([0], device='cuda:0')\n"
     ]
    }
   ],
   "source": [
    "eval('the sky is blue.')"
   ]
  },
  {
   "cell_type": "code",
   "execution_count": 54,
   "metadata": {},
   "outputs": [
    {
     "name": "stdout",
     "output_type": "stream",
     "text": [
      "tensor([[ 3.2961, -2.2482]], device='cuda:0')\n",
      "tensor([0], device='cuda:0')\n"
     ]
    }
   ],
   "source": [
    "eval('The WHO visited Geneva yesterday due to Covid-19.')"
   ]
  },
  {
   "cell_type": "code",
   "execution_count": 65,
   "metadata": {},
   "outputs": [
    {
     "data": {
      "application/vnd.jupyter.widget-view+json": {
       "model_id": "e153aff608954f348c6785399429cf35",
       "version_major": 2,
       "version_minor": 0
      },
      "text/plain": [
       "model.safetensors:   0%|          | 0.00/1.33G [00:00<?, ?B/s]"
      ]
     },
     "metadata": {},
     "output_type": "display_data"
    },
    {
     "data": {
      "text/plain": [
       "CommitInfo(commit_url='https://huggingface.co/chreh/persuasive_language_detector/commit/cb19a34964ae994997097131d79f0633d75668d0', commit_message='Upload BertForSequenceClassification', commit_description='', oid='cb19a34964ae994997097131d79f0633d75668d0', pr_url=None, pr_revision=None, pr_num=None)"
      ]
     },
     "execution_count": 65,
     "metadata": {},
     "output_type": "execute_result"
    }
   ],
   "source": [
    "# token = \"\" # huggingface token here\n",
    "# model.push_to_hub(\"chreh/persuasive_language_detector\", token=token, private=False)"
   ]
  },
  {
   "cell_type": "code",
   "execution_count": null,
   "metadata": {},
   "outputs": [],
   "source": []
  }
 ],
 "metadata": {
  "kernelspec": {
   "display_name": "Python 3 (ipykernel)",
   "language": "python",
   "name": "python3"
  },
  "language_info": {
   "codemirror_mode": {
    "name": "ipython",
    "version": 3
   },
   "file_extension": ".py",
   "mimetype": "text/x-python",
   "name": "python",
   "nbconvert_exporter": "python",
   "pygments_lexer": "ipython3",
   "version": "3.11.5"
  }
 },
 "nbformat": 4,
 "nbformat_minor": 2
}
